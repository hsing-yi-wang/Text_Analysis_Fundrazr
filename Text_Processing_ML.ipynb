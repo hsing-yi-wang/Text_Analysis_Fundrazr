{
 "cells": [
  {
   "cell_type": "markdown",
   "metadata": {},
   "source": [
    "# Machine Learning - Text Processing\n",
    "## Application of text data processing and supervised classification"
   ]
  },
  {
   "cell_type": "markdown",
   "metadata": {},
   "source": [
    "### Read Data"
   ]
  },
  {
   "cell_type": "code",
   "execution_count": 182,
   "metadata": {},
   "outputs": [],
   "source": [
    "import numpy as np\n",
    "import pandas as pd"
   ]
  },
  {
   "cell_type": "code",
   "execution_count": 183,
   "metadata": {},
   "outputs": [
    {
     "data": {
      "text/html": [
       "<div>\n",
       "<style scoped>\n",
       "    .dataframe tbody tr th:only-of-type {\n",
       "        vertical-align: middle;\n",
       "    }\n",
       "\n",
       "    .dataframe tbody tr th {\n",
       "        vertical-align: top;\n",
       "    }\n",
       "\n",
       "    .dataframe thead th {\n",
       "        text-align: right;\n",
       "    }\n",
       "</style>\n",
       "<table border=\"1\" class=\"dataframe\">\n",
       "  <thead>\n",
       "    <tr style=\"text-align: right;\">\n",
       "      <th></th>\n",
       "      <th>amountRaised</th>\n",
       "      <th>campaignTitle</th>\n",
       "      <th>currencyType</th>\n",
       "      <th>endDate</th>\n",
       "      <th>goal</th>\n",
       "      <th>numberContributors</th>\n",
       "      <th>percentage</th>\n",
       "      <th>story</th>\n",
       "      <th>url</th>\n",
       "    </tr>\n",
       "  </thead>\n",
       "  <tbody>\n",
       "    <tr>\n",
       "      <th>0</th>\n",
       "      <td>300</td>\n",
       "      <td>Help us purchase a new server</td>\n",
       "      <td>U.S. Dollar</td>\n",
       "      <td>NaN</td>\n",
       "      <td>of $1k goal</td>\n",
       "      <td>5.0</td>\n",
       "      <td>30%</td>\n",
       "      <td>NaN</td>\n",
       "      <td>https://fundrazr.com/211XNb</td>\n",
       "    </tr>\n",
       "    <tr>\n",
       "      <th>1</th>\n",
       "      <td>1,000</td>\n",
       "      <td>Please Help Us Return Home to France to Mentor...</td>\n",
       "      <td>Canadian Dollar</td>\n",
       "      <td>NaN</td>\n",
       "      <td>of $10k goal</td>\n",
       "      <td>4.0</td>\n",
       "      <td>10%</td>\n",
       "      <td>I am a native-born Californian with French fam...</td>\n",
       "      <td>https://fundrazr.com/d1TPif</td>\n",
       "    </tr>\n",
       "    <tr>\n",
       "      <th>2</th>\n",
       "      <td>1,110</td>\n",
       "      <td>ENVIRONS - Eco-Friendly Shoe.</td>\n",
       "      <td>U.S. Dollar</td>\n",
       "      <td>Jun 1, 2019</td>\n",
       "      <td>of $30k goal</td>\n",
       "      <td>2.0</td>\n",
       "      <td>4%</td>\n",
       "      <td>The Environs shoes made by Australian Merino\\n...</td>\n",
       "      <td>https://fundrazr.com/environs_</td>\n",
       "    </tr>\n",
       "    <tr>\n",
       "      <th>3</th>\n",
       "      <td>180</td>\n",
       "      <td>Introducing Aquaponics into the Greek market</td>\n",
       "      <td>Euro</td>\n",
       "      <td>NaN</td>\n",
       "      <td>of €2k goal</td>\n",
       "      <td>7.0</td>\n",
       "      <td>9%</td>\n",
       "      <td>Hi, my name is Nicolas Bagkos and I come from ...</td>\n",
       "      <td>https://fundrazr.com/31DJF6</td>\n",
       "    </tr>\n",
       "    <tr>\n",
       "      <th>4</th>\n",
       "      <td>7,274</td>\n",
       "      <td>Self Serve Classroom and Expansion!</td>\n",
       "      <td>U.S. Dollar</td>\n",
       "      <td>NaN</td>\n",
       "      <td>of $15k goal</td>\n",
       "      <td>82.0</td>\n",
       "      <td>48%</td>\n",
       "      <td>Dear supporters of Self Serve We’re excited to...</td>\n",
       "      <td>https://fundrazr.com/selfserveclassroom</td>\n",
       "    </tr>\n",
       "  </tbody>\n",
       "</table>\n",
       "</div>"
      ],
      "text/plain": [
       "  amountRaised                                      campaignTitle  \\\n",
       "0          300                      Help us purchase a new server   \n",
       "1        1,000  Please Help Us Return Home to France to Mentor...   \n",
       "2        1,110                      ENVIRONS - Eco-Friendly Shoe.   \n",
       "3          180       Introducing Aquaponics into the Greek market   \n",
       "4        7,274                Self Serve Classroom and Expansion!   \n",
       "\n",
       "      currencyType      endDate          goal  numberContributors percentage  \\\n",
       "0      U.S. Dollar          NaN   of $1k goal                 5.0        30%   \n",
       "1  Canadian Dollar          NaN  of $10k goal                 4.0        10%   \n",
       "2      U.S. Dollar  Jun 1, 2019  of $30k goal                 2.0         4%   \n",
       "3             Euro          NaN   of €2k goal                 7.0         9%   \n",
       "4      U.S. Dollar          NaN  of $15k goal                82.0        48%   \n",
       "\n",
       "                                               story  \\\n",
       "0                                                NaN   \n",
       "1  I am a native-born Californian with French fam...   \n",
       "2  The Environs shoes made by Australian Merino\\n...   \n",
       "3  Hi, my name is Nicolas Bagkos and I come from ...   \n",
       "4  Dear supporters of Self Serve We’re excited to...   \n",
       "\n",
       "                                       url  \n",
       "0              https://fundrazr.com/211XNb  \n",
       "1              https://fundrazr.com/d1TPif  \n",
       "2           https://fundrazr.com/environs_  \n",
       "3              https://fundrazr.com/31DJF6  \n",
       "4  https://fundrazr.com/selfserveclassroom  "
      ]
     },
     "execution_count": 183,
     "metadata": {},
     "output_type": "execute_result"
    }
   ],
   "source": [
    "df = pd.read_csv('/Users/eve7947/Side_Projects/Fundrazr_Text_Classifier/Fundrazr_Business.csv')\n",
    "df.head()"
   ]
  },
  {
   "cell_type": "code",
   "execution_count": 184,
   "metadata": {},
   "outputs": [
    {
     "data": {
      "text/plain": [
       "(547, 9)"
      ]
     },
     "execution_count": 184,
     "metadata": {},
     "output_type": "execute_result"
    }
   ],
   "source": [
    "df.shape"
   ]
  },
  {
   "cell_type": "code",
   "execution_count": 185,
   "metadata": {},
   "outputs": [],
   "source": [
    "df.drop(['campaignTitle', 'currencyType', 'endDate', 'goal', 'url'], axis=1, inplace=True)"
   ]
  },
  {
   "cell_type": "markdown",
   "metadata": {},
   "source": [
    "### Text Data Processing"
   ]
  },
  {
   "cell_type": "code",
   "execution_count": 186,
   "metadata": {},
   "outputs": [],
   "source": [
    "df = df.dropna(subset=['story','percentage'])"
   ]
  },
  {
   "cell_type": "code",
   "execution_count": 187,
   "metadata": {},
   "outputs": [
    {
     "data": {
      "text/plain": [
       "amountRaised           object\n",
       "numberContributors    float64\n",
       "percentage             object\n",
       "story                  object\n",
       "dtype: object"
      ]
     },
     "execution_count": 187,
     "metadata": {},
     "output_type": "execute_result"
    }
   ],
   "source": [
    "df.dtypes"
   ]
  },
  {
   "cell_type": "code",
   "execution_count": 188,
   "metadata": {},
   "outputs": [
    {
     "data": {
      "text/plain": [
       "1    I am a native-born Californian with French fam...\n",
       "2    The Environs shoes made by Australian Merino\\n...\n",
       "3    Hi, my name is Nicolas Bagkos and I come from ...\n",
       "4    Dear supporters of Self Serve We’re excited to...\n",
       "5    Carey Allan is a local pottery artist, mother,...\n",
       "Name: story, dtype: object"
      ]
     },
     "execution_count": 188,
     "metadata": {},
     "output_type": "execute_result"
    }
   ],
   "source": [
    "df.story.head()"
   ]
  },
  {
   "cell_type": "code",
   "execution_count": 189,
   "metadata": {},
   "outputs": [],
   "source": [
    "import nltk\n",
    "from nltk.tokenize import word_tokenize\n",
    "from nltk.corpus import stopwords\n",
    "from nltk.tokenize import RegexpTokenizer"
   ]
  },
  {
   "cell_type": "code",
   "execution_count": 190,
   "metadata": {},
   "outputs": [],
   "source": [
    "story = df.story.str.cat(sep=' ')"
   ]
  },
  {
   "cell_type": "code",
   "execution_count": 191,
   "metadata": {},
   "outputs": [],
   "source": [
    "tokenizer = RegexpTokenizer(r'\\w+')\n",
    "words = tokenizer.tokenize(story)\n",
    "#print(words)"
   ]
  },
  {
   "cell_type": "code",
   "execution_count": 192,
   "metadata": {},
   "outputs": [
    {
     "name": "stdout",
     "output_type": "stream",
     "text": [
      "203481\n"
     ]
    }
   ],
   "source": [
    "print(len(words))"
   ]
  },
  {
   "cell_type": "code",
   "execution_count": 14,
   "metadata": {},
   "outputs": [],
   "source": [
    "words_v2 = word_tokenize(story)\n",
    "#print(words_v2)"
   ]
  },
  {
   "cell_type": "code",
   "execution_count": 69,
   "metadata": {},
   "outputs": [
    {
     "data": {
      "text/plain": [
       "['the', 'to', 'and', 'a', 'of', 'I', 'in', 'for', 'is', 'that']"
      ]
     },
     "execution_count": 69,
     "metadata": {},
     "output_type": "execute_result"
    }
   ],
   "source": [
    "frequency_dist = nltk.FreqDist(words)\n",
    "sorted(frequency_dist,key=frequency_dist.__getitem__, reverse=True)[0:10]"
   ]
  },
  {
   "cell_type": "code",
   "execution_count": 193,
   "metadata": {
    "scrolled": false
   },
   "outputs": [],
   "source": [
    "stop_words = set(stopwords.words('english'))\n",
    "valued_words = [w for w in words if not w in stop_words]\n",
    "#print(valued_words)"
   ]
  },
  {
   "cell_type": "code",
   "execution_count": 194,
   "metadata": {},
   "outputs": [
    {
     "data": {
      "text/plain": [
       "['I', 'The', 'help', 'We', 'business', 'people', 'us', 'time', 'one', 'need']"
      ]
     },
     "execution_count": 194,
     "metadata": {},
     "output_type": "execute_result"
    }
   ],
   "source": [
    "frequency_dist = nltk.FreqDist(valued_words)\n",
    "sorted(frequency_dist,key=frequency_dist.__getitem__, reverse=True)[0:10]"
   ]
  },
  {
   "cell_type": "code",
   "execution_count": 195,
   "metadata": {},
   "outputs": [],
   "source": [
    "words_lower = [x.lower() for x in words]\n",
    "valued_words = [w for w in words_lower if not w in stop_words]\n",
    "#print(valued_words)"
   ]
  },
  {
   "cell_type": "code",
   "execution_count": 196,
   "metadata": {},
   "outputs": [
    {
     "data": {
      "text/plain": [
       "['help',\n",
       " 'business',\n",
       " 'people',\n",
       " 'us',\n",
       " 'one',\n",
       " 'need',\n",
       " 'time',\n",
       " 'get',\n",
       " 'would',\n",
       " 'new']"
      ]
     },
     "execution_count": 196,
     "metadata": {},
     "output_type": "execute_result"
    }
   ],
   "source": [
    "frequency_dist = nltk.FreqDist(valued_words)\n",
    "sorted(frequency_dist,key=frequency_dist.__getitem__, reverse=True)[0:10]"
   ]
  },
  {
   "cell_type": "code",
   "execution_count": 197,
   "metadata": {},
   "outputs": [
    {
     "name": "stdout",
     "output_type": "stream",
     "text": [
      "112187\n"
     ]
    }
   ],
   "source": [
    "print(len(valued_words))"
   ]
  },
  {
   "cell_type": "code",
   "execution_count": 20,
   "metadata": {},
   "outputs": [],
   "source": [
    "from nltk.stem.porter import PorterStemmer\n",
    "porter = PorterStemmer()\n",
    "stems_words = []\n",
    "for w in valued_words:    \n",
    "    stems_words.append(porter.stem(w))\n",
    "#print(stems_words)"
   ]
  },
  {
   "cell_type": "code",
   "execution_count": 21,
   "metadata": {},
   "outputs": [
    {
     "data": {
      "text/plain": [
       "['help', 'busi', 'need', 'year', 'work', 'make', 'time', 'get', 'one', 'peopl']"
      ]
     },
     "execution_count": 21,
     "metadata": {},
     "output_type": "execute_result"
    }
   ],
   "source": [
    "frequency_dist_v2 = nltk.FreqDist(stems_words)\n",
    "sorted(frequency_dist_v2,key=frequency_dist_v2.__getitem__, reverse=True)[0:10]"
   ]
  },
  {
   "cell_type": "markdown",
   "metadata": {},
   "source": [
    "### Feature Extraction"
   ]
  },
  {
   "cell_type": "code",
   "execution_count": 58,
   "metadata": {},
   "outputs": [
    {
     "data": {
      "image/png": "[encoded data removed]",
      "text/plain": [
       "<Figure size 432x288 with 1 Axes>"
      ]
     },
     "metadata": {
      "needs_background": "light"
     },
     "output_type": "display_data"
    }
   ],
   "source": [
    "from wordcloud import WordCloud\n",
    "import matplotlib.pyplot as plt\n",
    "wordcloud = WordCloud().generate_from_frequencies(frequency_dist)\n",
    "plt.imshow(wordcloud)\n",
    "plt.axis(\"off\")\n",
    "plt.show()"
   ]
  },
  {
   "cell_type": "markdown",
   "metadata": {},
   "source": [
    "### Generate lables of sucess/failed campaign"
   ]
  },
  {
   "cell_type": "code",
   "execution_count": 198,
   "metadata": {},
   "outputs": [],
   "source": [
    "df.percentage = df.percentage.str.rstrip('%').astype('float') / 100"
   ]
  },
  {
   "cell_type": "code",
   "execution_count": 199,
   "metadata": {},
   "outputs": [
    {
     "data": {
      "text/plain": [
       "dtype('float64')"
      ]
     },
     "execution_count": 199,
     "metadata": {},
     "output_type": "execute_result"
    }
   ],
   "source": [
    "df.percentage.dtype"
   ]
  },
  {
   "cell_type": "code",
   "execution_count": 200,
   "metadata": {},
   "outputs": [],
   "source": [
    "df['success'] = np.where(df['percentage'] > 0.5, 1, 0)"
   ]
  },
  {
   "cell_type": "code",
   "execution_count": 201,
   "metadata": {},
   "outputs": [
    {
     "data": {
      "text/plain": [
       "0    372\n",
       "1    120\n",
       "Name: success, dtype: int64"
      ]
     },
     "execution_count": 201,
     "metadata": {},
     "output_type": "execute_result"
    }
   ],
   "source": [
    "df.success.value_counts()"
   ]
  },
  {
   "cell_type": "code",
   "execution_count": 202,
   "metadata": {},
   "outputs": [],
   "source": [
    "df['clean'] = df['story'].str.lower().apply(tokenizer.tokenize)"
   ]
  },
  {
   "cell_type": "code",
   "execution_count": 203,
   "metadata": {},
   "outputs": [],
   "source": [
    "def process(x):\n",
    "    x = [w for w in x if not w in stop_words]\n",
    "    return' '.join(x)"
   ]
  },
  {
   "cell_type": "code",
   "execution_count": 204,
   "metadata": {},
   "outputs": [],
   "source": [
    "df['clean'] = df['clean'].apply(process)"
   ]
  },
  {
   "cell_type": "code",
   "execution_count": 205,
   "metadata": {},
   "outputs": [
    {
     "data": {
      "text/html": [
       "<div>\n",
       "<style scoped>\n",
       "    .dataframe tbody tr th:only-of-type {\n",
       "        vertical-align: middle;\n",
       "    }\n",
       "\n",
       "    .dataframe tbody tr th {\n",
       "        vertical-align: top;\n",
       "    }\n",
       "\n",
       "    .dataframe thead th {\n",
       "        text-align: right;\n",
       "    }\n",
       "</style>\n",
       "<table border=\"1\" class=\"dataframe\">\n",
       "  <thead>\n",
       "    <tr style=\"text-align: right;\">\n",
       "      <th></th>\n",
       "      <th>amountRaised</th>\n",
       "      <th>numberContributors</th>\n",
       "      <th>percentage</th>\n",
       "      <th>story</th>\n",
       "      <th>success</th>\n",
       "      <th>clean</th>\n",
       "    </tr>\n",
       "  </thead>\n",
       "  <tbody>\n",
       "    <tr>\n",
       "      <th>1</th>\n",
       "      <td>1,000</td>\n",
       "      <td>4.0</td>\n",
       "      <td>0.10</td>\n",
       "      <td>I am a native-born Californian with French fam...</td>\n",
       "      <td>0</td>\n",
       "      <td>native born californian french family heritage...</td>\n",
       "    </tr>\n",
       "    <tr>\n",
       "      <th>2</th>\n",
       "      <td>1,110</td>\n",
       "      <td>2.0</td>\n",
       "      <td>0.04</td>\n",
       "      <td>The Environs shoes made by Australian Merino\\n...</td>\n",
       "      <td>0</td>\n",
       "      <td>environs shoes made australian merino wool per...</td>\n",
       "    </tr>\n",
       "    <tr>\n",
       "      <th>3</th>\n",
       "      <td>180</td>\n",
       "      <td>7.0</td>\n",
       "      <td>0.09</td>\n",
       "      <td>Hi, my name is Nicolas Bagkos and I come from ...</td>\n",
       "      <td>0</td>\n",
       "      <td>hi name nicolas bagkos come greece difficult t...</td>\n",
       "    </tr>\n",
       "    <tr>\n",
       "      <th>4</th>\n",
       "      <td>7,274</td>\n",
       "      <td>82.0</td>\n",
       "      <td>0.48</td>\n",
       "      <td>Dear supporters of Self Serve We’re excited to...</td>\n",
       "      <td>0</td>\n",
       "      <td>dear supporters self serve excited announce gr...</td>\n",
       "    </tr>\n",
       "    <tr>\n",
       "      <th>5</th>\n",
       "      <td>4,165</td>\n",
       "      <td>30.0</td>\n",
       "      <td>0.42</td>\n",
       "      <td>Carey Allan is a local pottery artist, mother,...</td>\n",
       "      <td>0</td>\n",
       "      <td>carey allan local pottery artist mother roller...</td>\n",
       "    </tr>\n",
       "  </tbody>\n",
       "</table>\n",
       "</div>"
      ],
      "text/plain": [
       "  amountRaised  numberContributors  percentage  \\\n",
       "1        1,000                 4.0        0.10   \n",
       "2        1,110                 2.0        0.04   \n",
       "3          180                 7.0        0.09   \n",
       "4        7,274                82.0        0.48   \n",
       "5        4,165                30.0        0.42   \n",
       "\n",
       "                                               story  success  \\\n",
       "1  I am a native-born Californian with French fam...        0   \n",
       "2  The Environs shoes made by Australian Merino\\n...        0   \n",
       "3  Hi, my name is Nicolas Bagkos and I come from ...        0   \n",
       "4  Dear supporters of Self Serve We’re excited to...        0   \n",
       "5  Carey Allan is a local pottery artist, mother,...        0   \n",
       "\n",
       "                                               clean  \n",
       "1  native born californian french family heritage...  \n",
       "2  environs shoes made australian merino wool per...  \n",
       "3  hi name nicolas bagkos come greece difficult t...  \n",
       "4  dear supporters self serve excited announce gr...  \n",
       "5  carey allan local pottery artist mother roller...  "
      ]
     },
     "execution_count": 205,
     "metadata": {},
     "output_type": "execute_result"
    }
   ],
   "source": [
    "df.head()"
   ]
  },
  {
   "cell_type": "code",
   "execution_count": 206,
   "metadata": {},
   "outputs": [],
   "source": [
    "from sklearn.feature_extraction.text import TfidfVectorizer\n",
    "vect = TfidfVectorizer(binary=True).fit(df.clean.values)\n",
    "X_train_vectorized = vect.transform(df.clean.values).astype('float')"
   ]
  },
  {
   "cell_type": "code",
   "execution_count": 207,
   "metadata": {},
   "outputs": [],
   "source": [
    "y_train = df.success.values"
   ]
  },
  {
   "cell_type": "markdown",
   "metadata": {},
   "source": [
    "### Modeling -Logistic Regression"
   ]
  },
  {
   "cell_type": "code",
   "execution_count": 208,
   "metadata": {},
   "outputs": [
    {
     "name": "stderr",
     "output_type": "stream",
     "text": [
      "/Users/eve7947/anaconda3/lib/python3.7/site-packages/sklearn/linear_model/logistic.py:433: FutureWarning: Default solver will be changed to 'lbfgs' in 0.22. Specify a solver to silence this warning.\n",
      "  FutureWarning)\n"
     ]
    },
    {
     "data": {
      "text/plain": [
       "0.7967479674796748"
      ]
     },
     "execution_count": 208,
     "metadata": {},
     "output_type": "execute_result"
    }
   ],
   "source": [
    "from sklearn.linear_model import LogisticRegression\n",
    "from sklearn.model_selection import train_test_split\n",
    "X_train, X_test, y_train, y_test = train_test_split(X_train_vectorized, y_train , random_state = 0)\n",
    "clf1 = LogisticRegression(C=10,dual=False)\n",
    "clf1.fit(X_train , y_train)\n",
    "clf1.score(X_test, y_test)"
   ]
  },
  {
   "cell_type": "code",
   "execution_count": 209,
   "metadata": {},
   "outputs": [
    {
     "data": {
      "image/png": "[encoded data removed]",
      "text/plain": [
       "<Figure size 1080x360 with 1 Axes>"
      ]
     },
     "metadata": {
      "needs_background": "light"
     },
     "output_type": "display_data"
    }
   ],
   "source": [
    "import matplotlib.pyplot as plt\n",
    "def plot_coefficients(classifier, feature_names, top_features=20):\n",
    " coef = classifier.coef_.ravel()\n",
    " top_positive_coefficients = np.argsort(coef)[-top_features:]\n",
    " top_negative_coefficients = np.argsort(coef)[:top_features]\n",
    " top_coefficients = np.hstack([top_negative_coefficients, top_positive_coefficients])\n",
    " # create plot\n",
    " plt.figure(figsize=(15, 5))\n",
    " colors = ['red' if c < 0 else 'blue' for c in coef[top_coefficients]]\n",
    " plt.bar(np.arange(2 * top_features), coef[top_coefficients], color=colors)\n",
    " feature_names = np.array(feature_names)\n",
    " plt.xticks(np.arange(1, 1 + 2 * top_features), feature_names[top_coefficients], rotation=60, ha='right')\n",
    " plt.show()\n",
    "\n",
    "plot_coefficients(clf1, vect.get_feature_names())"
   ]
  },
  {
   "cell_type": "markdown",
   "metadata": {},
   "source": [
    "### Modeling - SVC"
   ]
  },
  {
   "cell_type": "code",
   "execution_count": 212,
   "metadata": {},
   "outputs": [
    {
     "data": {
      "text/plain": [
       "0.8048780487804879"
      ]
     },
     "execution_count": 212,
     "metadata": {},
     "output_type": "execute_result"
    }
   ],
   "source": [
    "from sklearn.svm import SVC\n",
    "clf2 = SVC(C=100,gamma=1,kernel='rbf',probability=True)\n",
    "clf2.fit(X_train, y_train)\n",
    "clf2.score(X_test, y_test)"
   ]
  },
  {
   "cell_type": "code",
   "execution_count": 216,
   "metadata": {},
   "outputs": [
    {
     "name": "stdout",
     "output_type": "stream",
     "text": [
      "The scikit-learn version is 0.20.2.\n"
     ]
    }
   ],
   "source": [
    "import sklearn\n",
    "print('The scikit-learn version is {}.'.format(sklearn.__version__))"
   ]
  },
  {
   "cell_type": "code",
   "execution_count": 118,
   "metadata": {},
   "outputs": [],
   "source": [
    "y_pred = clf2.predict(X_test)"
   ]
  },
  {
   "cell_type": "code",
   "execution_count": 120,
   "metadata": {},
   "outputs": [],
   "source": [
    "import pickle\n",
    "with open('fundrazr.clf2.pkl', 'wb') as file:\n",
    "    pickle.dump(clf2, file)"
   ]
  },
  {
   "cell_type": "code",
   "execution_count": 211,
   "metadata": {},
   "outputs": [],
   "source": [
    "with open('vect.pkl', 'wb') as file:\n",
    "    pickle.dump(vect, file)"
   ]
  },
  {
   "cell_type": "code",
   "execution_count": null,
   "metadata": {},
   "outputs": [],
   "source": []
  }
 ],
 "metadata": {
  "kernelspec": {
   "display_name": "Python 3",
   "language": "python",
   "name": "python3"
  },
  "language_info": {
   "codemirror_mode": {
    "name": "ipython",
    "version": 3
   },
   "file_extension": ".py",
   "mimetype": "text/x-python",
   "name": "python",
   "nbconvert_exporter": "python",
   "pygments_lexer": "ipython3",
   "version": "3.7.2"
  }
 },
 "nbformat": 4,
 "nbformat_minor": 2
}
